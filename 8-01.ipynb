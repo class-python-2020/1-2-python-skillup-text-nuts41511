{
 "metadata": {
  "language_info": {
   "codemirror_mode": {
    "name": "ipython",
    "version": 3
   },
   "file_extension": ".py",
   "mimetype": "text/x-python",
   "name": "python",
   "nbconvert_exporter": "python",
   "pygments_lexer": "ipython3",
   "version": "3.8.2-final"
  },
  "orig_nbformat": 2,
  "kernelspec": {
   "name": "python_defaultSpec_1597683909528",
   "display_name": "Python 3.8.2 32-bit"
  }
 },
 "nbformat": 4,
 "nbformat_minor": 2,
 "cells": [
  {
   "cell_type": "code",
   "execution_count": 1,
   "metadata": {},
   "outputs": [
    {
     "output_type": "execute_result",
     "data": {
      "text/plain": "'C:\\\\Users\\\\NishoujiRinpei\\\\AppData\\\\Local\\\\Programs\\\\Python\\\\Python38-32\\\\lib\\\\random.py'"
     },
     "metadata": {},
     "execution_count": 1
    }
   ],
   "source": [
    "import random\n",
    "path_to_random = random.__file__\n",
    "path_to_random"
   ]
  },
  {
   "cell_type": "code",
   "execution_count": 2,
   "metadata": {},
   "outputs": [],
   "source": [
    "import os"
   ]
  },
  {
   "cell_type": "code",
   "execution_count": 3,
   "metadata": {},
   "outputs": [
    {
     "output_type": "execute_result",
     "data": {
      "text/plain": "True"
     },
     "metadata": {},
     "execution_count": 3
    }
   ],
   "source": [
    "os.path.exists(path_to_random)"
   ]
  },
  {
   "cell_type": "code",
   "execution_count": 4,
   "metadata": {},
   "outputs": [
    {
     "output_type": "execute_result",
     "data": {
      "text/plain": "False"
     },
     "metadata": {},
     "execution_count": 4
    }
   ],
   "source": [
    "os.path.isdir(path_to_random)"
   ]
  },
  {
   "cell_type": "code",
   "execution_count": 5,
   "metadata": {},
   "outputs": [
    {
     "output_type": "execute_result",
     "data": {
      "text/plain": "True"
     },
     "metadata": {},
     "execution_count": 5
    }
   ],
   "source": [
    "os.path.isfile(path_to_random)"
   ]
  },
  {
   "cell_type": "code",
   "execution_count": 6,
   "metadata": {},
   "outputs": [
    {
     "output_type": "execute_result",
     "data": {
      "text/plain": "'C:\\\\Users\\\\NishoujiRinpei\\\\AppData\\\\Local\\\\Programs\\\\Python\\\\Python38-32\\\\lib'"
     },
     "metadata": {},
     "execution_count": 6
    }
   ],
   "source": [
    "parent_path_name = os.path.dirname(path_to_random)\n",
    "parent_path_name"
   ]
  },
  {
   "cell_type": "code",
   "execution_count": 7,
   "metadata": {},
   "outputs": [
    {
     "output_type": "execute_result",
     "data": {
      "text/plain": "'random.py'"
     },
     "metadata": {},
     "execution_count": 7
    }
   ],
   "source": [
    "os.path.basename(path_to_random)"
   ]
  },
  {
   "cell_type": "code",
   "execution_count": 8,
   "metadata": {},
   "outputs": [
    {
     "output_type": "execute_result",
     "data": {
      "text/plain": "('C:\\\\Users\\\\NishoujiRinpei\\\\AppData\\\\Local\\\\Programs\\\\Python\\\\Python38-32\\\\lib',\n 'random.py')"
     },
     "metadata": {},
     "execution_count": 8
    }
   ],
   "source": [
    "dir_path_name,File_name = os.path.split(path_to_random)\n",
    "dir_path_name,File_name"
   ]
  },
  {
   "cell_type": "code",
   "execution_count": 9,
   "metadata": {},
   "outputs": [
    {
     "output_type": "execute_result",
     "data": {
      "text/plain": "'C:\\\\Users\\\\NishoujiRinpei\\\\AppData\\\\Local\\\\Programs\\\\Python\\\\Python38-32\\\\lib\\\\random.py'"
     },
     "metadata": {},
     "execution_count": 9
    }
   ],
   "source": [
    "os.path.join(dir_path_name,File_name)"
   ]
  },
  {
   "cell_type": "code",
   "execution_count": 10,
   "metadata": {},
   "outputs": [
    {
     "output_type": "execute_result",
     "data": {
      "text/plain": "29617"
     },
     "metadata": {},
     "execution_count": 10
    }
   ],
   "source": [
    "os.path.getsize(path_to_random)"
   ]
  },
  {
   "cell_type": "code",
   "execution_count": 11,
   "metadata": {
    "tags": []
   },
   "outputs": [
    {
     "output_type": "stream",
     "name": "stdout",
     "text": "os.getcwd(): c:\\Users\\NishoujiRinpei\\Documents\\GitHub\\1-2-python-skillup-text-nuts41511\n"
    }
   ],
   "source": [
    "initial_dir = os.getcwd()\n",
    "print(\"os.getcwd():\",initial_dir)"
   ]
  },
  {
   "cell_type": "code",
   "execution_count": 12,
   "metadata": {},
   "outputs": [],
   "source": [
    "my_dir = \"os_practice\"\n",
    "os.mkdir(my_dir)"
   ]
  },
  {
   "cell_type": "code",
   "execution_count": 13,
   "metadata": {},
   "outputs": [],
   "source": [
    "os.chdir(my_dir)"
   ]
  },
  {
   "cell_type": "code",
   "execution_count": 14,
   "metadata": {
    "tags": []
   },
   "outputs": [
    {
     "output_type": "stream",
     "name": "stdout",
     "text": "os.getcwd(): c:\\Users\\NishoujiRinpei\\Documents\\GitHub\\1-2-python-skillup-text-nuts41511\\os_practice\n"
    }
   ],
   "source": [
    "print(\"os.getcwd():\",os.getcwd())"
   ]
  },
  {
   "cell_type": "code",
   "execution_count": 15,
   "metadata": {},
   "outputs": [],
   "source": [
    "File_name = \"os_test.txt\"\n",
    "with open(File_name,\"w\")as f:\n",
    "    f.write(\"Live in the present.\")"
   ]
  },
  {
   "cell_type": "code",
   "execution_count": 16,
   "metadata": {
    "tags": []
   },
   "outputs": [
    {
     "output_type": "stream",
     "name": "stdout",
     "text": "os.listdir(): ['os_test.txt']\n"
    }
   ],
   "source": [
    "print(\"os.listdir():\",os.listdir())"
   ]
  },
  {
   "cell_type": "code",
   "execution_count": 17,
   "metadata": {},
   "outputs": [],
   "source": [
    "new_file_name = \"new_os_test.txt\"\n",
    "os.rename(File_name,new_file_name)"
   ]
  },
  {
   "cell_type": "code",
   "execution_count": 18,
   "metadata": {
    "tags": []
   },
   "outputs": [
    {
     "output_type": "stream",
     "name": "stdout",
     "text": "os.listdir(): ['new_os_test.txt']\n"
    }
   ],
   "source": [
    "print(\"os.listdir():\",os.listdir())"
   ]
  },
  {
   "cell_type": "code",
   "execution_count": 19,
   "metadata": {},
   "outputs": [],
   "source": [
    "os.remove(new_file_name)"
   ]
  },
  {
   "cell_type": "code",
   "execution_count": 20,
   "metadata": {
    "tags": []
   },
   "outputs": [
    {
     "output_type": "stream",
     "name": "stdout",
     "text": "os.listdir(): []\n"
    }
   ],
   "source": [
    "print(\"os.listdir():\",os.listdir())"
   ]
  },
  {
   "cell_type": "code",
   "execution_count": 21,
   "metadata": {},
   "outputs": [],
   "source": [
    "os.chdir(initial_dir)"
   ]
  },
  {
   "cell_type": "code",
   "execution_count": 22,
   "metadata": {
    "tags": []
   },
   "outputs": [
    {
     "output_type": "stream",
     "name": "stdout",
     "text": "os.getcwd(): c:\\Users\\NishoujiRinpei\\Documents\\GitHub\\1-2-python-skillup-text-nuts41511\n"
    }
   ],
   "source": [
    "print(\"os.getcwd():\",os.getcwd())"
   ]
  },
  {
   "cell_type": "code",
   "execution_count": 23,
   "metadata": {},
   "outputs": [],
   "source": [
    "os.rmdir(my_dir)"
   ]
  },
  {
   "cell_type": "code",
   "execution_count": 24,
   "metadata": {},
   "outputs": [
    {
     "output_type": "execute_result",
     "data": {
      "text/plain": "False"
     },
     "metadata": {},
     "execution_count": 24
    }
   ],
   "source": [
    "os.path.exists(my_dir)"
   ]
  },
  {
   "cell_type": "code",
   "execution_count": 25,
   "metadata": {
    "tags": []
   },
   "outputs": [
    {
     "output_type": "stream",
     "name": "stdout",
     "text": "os.getcwd(): c:\\Users\\NishoujiRinpei\\Documents\\GitHub\\1-2-python-skillup-text-nuts41511\n"
    }
   ],
   "source": [
    "os.system(\"mkdir today\")\n",
    "print(\"os.getcwd():\",os.getcwd())"
   ]
  },
  {
   "cell_type": "code",
   "execution_count": 26,
   "metadata": {
    "tags": []
   },
   "outputs": [
    {
     "output_type": "stream",
     "name": "stdout",
     "text": "ディレクトリ today があります。これを消去します。\nディレクトリ　today を消去しました。\n"
    }
   ],
   "source": [
    "if os.path.exists(\"today\"):\n",
    "    print(\"ディレクトリ today があります。これを消去します。\")\n",
    "    os.rmdir(\"today\")\n",
    "    print(\"ディレクトリ　today を消去しました。\")"
   ]
  },
  {
   "cell_type": "code",
   "execution_count": 27,
   "metadata": {
    "tags": []
   },
   "outputs": [
    {
     "output_type": "stream",
     "name": "stdout",
     "text": "environ({'ALLUSERSPROFILE': 'C:\\\\ProgramData', 'AMD_ENTRYPOINT': 'vs/workbench/services/extensions/node/extensionHostProcess', 'APPDATA': 'C:\\\\Users\\\\NishoujiRinpei\\\\AppData\\\\Roaming', 'APPLICATION_INSIGHTS_NO_DIAGNOSTIC_CHANNEL': 'true', 'COMMONPROGRAMFILES': 'C:\\\\Program Files (x86)\\\\Common Files', 'COMMONPROGRAMFILES(X86)': 'C:\\\\Program Files (x86)\\\\Common Files', 'COMMONPROGRAMW6432': 'C:\\\\Program Files\\\\Common Files', 'COMPUTERNAME': 'SYS-R02-4201145', 'COMSPEC': 'C:\\\\Windows\\\\system32\\\\cmd.exe', 'DRIVERDATA': 'C:\\\\Windows\\\\System32\\\\Drivers\\\\DriverData', 'ELECTRON_RUN_AS_NODE': '1', 'FPS_BROWSER_APP_PROFILE_STRING': 'Internet Explorer', 'FPS_BROWSER_USER_PROFILE_STRING': 'Default', 'HOMEDRIVE': 'C:', 'HOMEPATH': '\\\\Users\\\\NishoujiRinpei', 'LOCALAPPDATA': 'C:\\\\Users\\\\NishoujiRinpei\\\\AppData\\\\Local', 'LOGONSERVER': '\\\\\\\\SYS-R02-4201145', 'NUMBER_OF_PROCESSORS': '8', 'ONEDRIVE': 'C:\\\\Users\\\\NishoujiRinpei\\\\OneDrive', 'ORIGINAL_XDG_CURRENT_DESKTOP': 'undefined', 'OS': 'Windows_NT', 'PATH': 'C:\\\\Windows\\\\system32;C:\\\\Windows;C:\\\\Windows\\\\System32\\\\Wbem;C:\\\\Windows\\\\System32\\\\WindowsPowerShell\\\\v1.0\\\\;C:\\\\Windows\\\\System32\\\\OpenSSH\\\\;C:\\\\Program Files\\\\Intel\\\\WiFi\\\\bin\\\\;C:\\\\Program Files\\\\Common Files\\\\Intel\\\\WirelessCommon\\\\;C:\\\\Program Files\\\\MySQL\\\\MySQL Server 5.7\\\\bin;C:\\\\Program Files\\\\Git\\\\cmd;C:\\\\Program Files\\\\MySQL\\\\MySQL Shell 8.0\\\\bin\\\\;C:\\\\Users\\\\NishoujiRinpei\\\\AppData\\\\Local\\\\Programs\\\\Python\\\\Python38-32\\\\Scripts\\\\;C:\\\\Users\\\\NishoujiRinpei\\\\AppData\\\\Local\\\\Programs\\\\Python\\\\Python38-32\\\\;C:\\\\Users\\\\NishoujiRinpei\\\\AppData\\\\Local\\\\Microsoft\\\\WindowsApps;;C:\\\\Users\\\\NishoujiRinpei\\\\AppData\\\\Local\\\\Programs\\\\Microsoft VS Code\\\\bin', 'PATHEXT': '.COM;.EXE;.BAT;.CMD;.VBS;.VBE;.JS;.JSE;.WSF;.WSH;.MSC', 'PIPE_LOGGING': 'true', 'PROCESSOR_ARCHITECTURE': 'x86', 'PROCESSOR_ARCHITEW6432': 'AMD64', 'PROCESSOR_IDENTIFIER': 'Intel64 Family 6 Model 142 Stepping 10, GenuineIntel', 'PROCESSOR_LEVEL': '6', 'PROCESSOR_REVISION': '8e0a', 'PROGRAMDATA': 'C:\\\\ProgramData', 'PROGRAMFILES': 'C:\\\\Program Files (x86)', 'PROGRAMFILES(X86)': 'C:\\\\Program Files (x86)', 'PROGRAMW6432': 'C:\\\\Program Files', 'PSMODULEPATH': 'C:\\\\Program Files\\\\WindowsPowerShell\\\\Modules;C:\\\\Windows\\\\system32\\\\WindowsPowerShell\\\\v1.0\\\\Modules', 'PUBLIC': 'C:\\\\Users\\\\Public', 'PYTHONIOENCODING': 'utf-8', 'PYTHONPATH': 'c:\\\\Users\\\\NishoujiRinpei\\\\.vscode\\\\extensions\\\\ms-python.python-2020.8.101144\\\\pythonFiles;c:\\\\Users\\\\NishoujiRinpei\\\\.vscode\\\\extensions\\\\ms-python.python-2020.8.101144\\\\pythonFiles\\\\lib\\\\python', 'PYTHONUNBUFFERED': '1', 'PYTHONWARNINGS': 'ignore', 'SESSIONNAME': 'Console', 'SYSTEMDRIVE': 'C:', 'SYSTEMROOT': 'C:\\\\Windows', 'TEMP': 'C:\\\\Users\\\\NISHOU~1\\\\AppData\\\\Local\\\\Temp', 'TMP': 'C:\\\\Users\\\\NISHOU~1\\\\AppData\\\\Local\\\\Temp', 'USERDOMAIN': 'SYS-R02-4201145', 'USERDOMAIN_ROAMINGPROFILE': 'SYS-R02-4201145', 'USERNAME': 'NishoujiRinpei', 'USERPROFILE': 'C:\\\\Users\\\\NishoujiRinpei', 'VERBOSE_LOGGING': 'true', 'VSCODE_CWD': 'C:\\\\Users\\\\NishoujiRinpei\\\\AppData\\\\Local\\\\Programs\\\\Microsoft VS Code', 'VSCODE_HANDLES_UNCAUGHT_ERRORS': 'true', 'VSCODE_IPC_HOOK': '\\\\\\\\.\\\\pipe\\\\bedfb71f2abeada39cff18f251174960-1.48.0-main-sock', 'VSCODE_IPC_HOOK_EXTHOST': '\\\\\\\\.\\\\pipe\\\\vscode-ipc-0aa3ade7-712e-48ff-945f-7d0b22f6e08b-sock', 'VSCODE_LOGS': 'C:\\\\Users\\\\NishoujiRinpei\\\\AppData\\\\Roaming\\\\Code\\\\logs\\\\20200818T020213', 'VSCODE_LOG_STACK': 'false', 'VSCODE_NLS_CONFIG': '{\"locale\":\"ja\",\"availableLanguages\":{\"*\":\"ja\"},\"_languagePackId\":\"dd52f73be7f9d88e655b23417fa0c1aa.ja\",\"_translationsConfigFile\":\"C:\\\\\\\\Users\\\\\\\\NishoujiRinpei\\\\\\\\AppData\\\\\\\\Roaming\\\\\\\\Code\\\\\\\\clp\\\\\\\\dd52f73be7f9d88e655b23417fa0c1aa.ja\\\\\\\\tcf.json\",\"_cacheRoot\":\"C:\\\\\\\\Users\\\\\\\\NishoujiRinpei\\\\\\\\AppData\\\\\\\\Roaming\\\\\\\\Code\\\\\\\\clp\\\\\\\\dd52f73be7f9d88e655b23417fa0c1aa.ja\",\"_resolvedLanguagePackCoreLocation\":\"C:\\\\\\\\Users\\\\\\\\NishoujiRinpei\\\\\\\\AppData\\\\\\\\Roaming\\\\\\\\Code\\\\\\\\clp\\\\\\\\dd52f73be7f9d88e655b23417fa0c1aa.ja\\\\\\\\db40434f562994116e5b21c24015a2e40b2504e6\",\"_corruptedFile\":\"C:\\\\\\\\Users\\\\\\\\NishoujiRinpei\\\\\\\\AppData\\\\\\\\Roaming\\\\\\\\Code\\\\\\\\clp\\\\\\\\dd52f73be7f9d88e655b23417fa0c1aa.ja\\\\\\\\corrupted.info\",\"_languagePackSupport\":true}', 'VSCODE_NODE_CACHED_DATA_DIR': 'C:\\\\Users\\\\NishoujiRinpei\\\\AppData\\\\Roaming\\\\Code\\\\CachedData\\\\db40434f562994116e5b21c24015a2e40b2504e6', 'VSCODE_PID': '3792', 'WINDIR': 'C:\\\\Windows', 'JPY_INTERRUPT_EVENT': '652', 'IPY_INTERRUPT_EVENT': '652', 'JPY_PARENT_PID': '668', 'TERM': 'xterm-color', 'CLICOLOR': '1', 'PAGER': 'cat', 'GIT_PAGER': 'cat', 'MPLBACKEND': 'module://ipykernel.pylab.backend_inline'})\n"
    }
   ],
   "source": [
    "print(os.environ)"
   ]
  },
  {
   "cell_type": "code",
   "execution_count": 29,
   "metadata": {},
   "outputs": [],
   "source": [
    "os.getenv(\"HOME\")"
   ]
  },
  {
   "cell_type": "code",
   "execution_count": 30,
   "metadata": {},
   "outputs": [],
   "source": [
    "import os\n",
    "def prepare_dir(dir_name=\"save_dir\"):\n",
    "    if os.path.exists(dir_name):\n",
    "        print(\"ディレクトリ'{}'が存在します。\".format(dir_name))\n",
    "    else:\n",
    "        os.mkdir(dir_name)\n",
    "        print(\"ディレクトリ'{}'を作成しました。\".format(dir_name))"
   ]
  },
  {
   "cell_type": "code",
   "execution_count": 31,
   "metadata": {
    "tags": []
   },
   "outputs": [
    {
     "output_type": "stream",
     "name": "stdout",
     "text": "ディレクトリ'save_dir'を作成しました。\n"
    }
   ],
   "source": [
    "prepare_dir()"
   ]
  },
  {
   "cell_type": "code",
   "execution_count": 32,
   "metadata": {
    "tags": []
   },
   "outputs": [
    {
     "output_type": "stream",
     "name": "stdout",
     "text": "ディレクトリ'save_dir'が存在します。\n"
    }
   ],
   "source": [
    "prepare_dir()"
   ]
  },
  {
   "cell_type": "code",
   "execution_count": 33,
   "metadata": {},
   "outputs": [],
   "source": [
    "import os\n",
    "\n",
    "def delete_dir(dir_name=\"save_dir\"):\n",
    "    if os.path.exists(dir_name):\n",
    "        print(\"ディレクトリ'{}'が存在します。\".format(dir_name))\n",
    "        os.rmdir(dir_name)\n",
    "        print(\"ディレクトリ'{}'を消去しました。\".format(dir_name))\n",
    "    else:\n",
    "        print(\"ディレクトリ'{}'はありません。\".format(dir_name))"
   ]
  },
  {
   "cell_type": "code",
   "execution_count": 34,
   "metadata": {
    "tags": []
   },
   "outputs": [
    {
     "output_type": "stream",
     "name": "stdout",
     "text": "ディレクトリ'save_dir'が存在します。\nディレクトリ'save_dir'を消去しました。\n"
    }
   ],
   "source": [
    "delete_dir()"
   ]
  },
  {
   "cell_type": "code",
   "execution_count": 35,
   "metadata": {
    "tags": []
   },
   "outputs": [
    {
     "output_type": "stream",
     "name": "stdout",
     "text": "ディレクトリ'save_dir'はありません。\n"
    }
   ],
   "source": [
    "delete_dir()"
   ]
  },
  {
   "cell_type": "code",
   "execution_count": null,
   "metadata": {},
   "outputs": [],
   "source": []
  }
 ]
}