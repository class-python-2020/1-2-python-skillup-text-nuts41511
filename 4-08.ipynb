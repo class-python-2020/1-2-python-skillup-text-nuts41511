{
 "metadata": {
  "language_info": {
   "codemirror_mode": {
    "name": "ipython",
    "version": 3
   },
   "file_extension": ".py",
   "mimetype": "text/x-python",
   "name": "python",
   "nbconvert_exporter": "python",
   "pygments_lexer": "ipython3",
   "version": 3
  },
  "orig_nbformat": 2,
  "kernelspec": {
   "name": "python_defaultSpec_1596911732058",
   "display_name": "Python 3.8.2 32-bit"
  }
 },
 "nbformat": 4,
 "nbformat_minor": 2,
 "cells": [
  {
   "cell_type": "code",
   "execution_count": 1,
   "metadata": {},
   "outputs": [],
   "source": [
    "def show_how_it_works(func):\n",
    "    def my_function(*args,**kwargs):\n",
    "        print(\"Running function:\",func.__name__)\n",
    "        print(\"Positional arguments:\",args)\n",
    "        print(\"keyword arguments:\",kwargs)\n",
    "        result = func(*args,**kwargs)\n",
    "        print(\"Result:\",result)\n",
    "        return result\n",
    "    return my_function"
   ]
  },
  {
   "cell_type": "code",
   "execution_count": 1,
   "metadata": {},
   "outputs": [
    {
     "output_type": "execute_result",
     "data": {
      "text/plain": "9"
     },
     "metadata": {},
     "execution_count": 1
    }
   ],
   "source": [
    "def add_two_numbers(a,b):\n",
    "    return a + b\n",
    "\n",
    "add_two_numbers(1,8)"
   ]
  },
  {
   "cell_type": "code",
   "execution_count": 3,
   "metadata": {},
   "outputs": [],
   "source": [
    "def show_begin_end(func):\n",
    "    def deco_func(*args,**kwargs):\n",
    "        print(\"== start\")\n",
    "        result = func(*args,**kwargs)\n",
    "        print(\"== end\")\n",
    "        return result\n",
    "    return deco_func"
   ]
  },
  {
   "cell_type": "code",
   "execution_count": 4,
   "metadata": {
    "tags": []
   },
   "outputs": [
    {
     "output_type": "stream",
     "name": "stdout",
     "text": "Sleeping..\nDone Sleeping\n"
    }
   ],
   "source": [
    "import time\n",
    "\n",
    "def sleep_for_a_while():\n",
    "    print(\"Sleeping..\")\n",
    "    time.sleep(2)\n",
    "    print(\"Done Sleeping\")\n",
    "\n",
    "sleep_for_a_while()"
   ]
  },
  {
   "cell_type": "code",
   "execution_count": 5,
   "metadata": {
    "tags": []
   },
   "outputs": [
    {
     "output_type": "stream",
     "name": "stdout",
     "text": "== start\nSleeping..\nDone Sleeping\n== end\n"
    }
   ],
   "source": [
    "@show_begin_end\n",
    "def sleep_for_a_while():\n",
    "    print(\"Sleeping..\")\n",
    "    time.sleep(2)\n",
    "    print(\"Done Sleeping\")\n",
    "\n",
    "sleep_for_a_while()"
   ]
  }
 ]
}